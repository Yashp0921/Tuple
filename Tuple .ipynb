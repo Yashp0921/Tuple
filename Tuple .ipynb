{
 "cells": [
  {
   "cell_type": "markdown",
   "id": "0bb1f253",
   "metadata": {},
   "source": [
    "$1$   $𝑇𝑢𝑝𝑙𝑒$ $𝑖𝑛$ $𝑃𝑦𝑡ℎ𝑜𝑛$ − $𝑡𝑢𝑝𝑙𝑒()$\n",
    "\n",
    "$2$   $𝐼𝑛𝑡𝑟𝑜𝑑𝑢𝑐𝑡𝑖𝑜𝑛$ $𝑊𝑖𝑡ℎ$  $𝐵𝑎𝑠𝑖𝑐$ $𝑆𝑦𝑛𝑡𝑎x$\n",
    "\n",
    "\n",
    "- 'tuple' of the one of the pre-defined class and treated as list data type.\n",
    "- The purpose of tuple data type is that \"To store Collection of Values or multiple\n",
    "  values either of Same type or different type or both the types with unique and duplicate.\"\n",
    "- The elements of tuple must be stored within braces ( ) and the elements must\n",
    "  separated by comma.\n",
    "- An object of tuple maintains inerstion Order.\n",
    "- On the object of tuple, we can perform Both Indexing and Slicing.\n",
    "- An object of tuple belongs to immutable bcoz tuple' object does not support item\n",
    "  assignment\n",
    "- To convert any other object into tuple type object, we use tuple()\n",
    "- Syntax of tuple()=>Syntax:- tuple_object1=tuple([object])\n",
    "\n",
    "$We$ $can$ $create$ $two$ $types$ $of$ $tuple$ $objects....$  $They$ $are$\n",
    "-      a) empty tuple\n",
    "-      b) non-empty tuple\n",
    "  \n",
    "- a) empty tuple:\n",
    "                An empty tuple is one, which does not contain any elements and length is 0\n",
    "                Syntax:- tupleobj=()\n",
    "                           OR\n",
    "                         tupleobj=tuple()\n",
    "\n",
    "- b) non-empty tuple:\n",
    "                    A non-empty tuple is one, which contains elements and length is >0\n",
    "                     Syntax:- tplobj=(val1,val2...val-n)\n",
    "                                    (OR)\n",
    "                                tplobj=val1,val2...val-n\n"
   ]
  },
  {
   "cell_type": "markdown",
   "id": "cf7eee8e",
   "metadata": {},
   "source": [
    "$Dir$ $Tuple()$\n",
    "\n",
    "- It give the what are methods/functions in the tuple in a python\n",
    "- The above are the methods/functions used in tuple in a python."
   ]
  },
  {
   "cell_type": "code",
   "execution_count": 43,
   "id": "dab10a2d",
   "metadata": {},
   "outputs": [
    {
     "data": {
      "text/plain": [
       "['__add__',\n",
       " '__class__',\n",
       " '__class_getitem__',\n",
       " '__contains__',\n",
       " '__delattr__',\n",
       " '__dir__',\n",
       " '__doc__',\n",
       " '__eq__',\n",
       " '__format__',\n",
       " '__ge__',\n",
       " '__getattribute__',\n",
       " '__getitem__',\n",
       " '__getnewargs__',\n",
       " '__gt__',\n",
       " '__hash__',\n",
       " '__init__',\n",
       " '__init_subclass__',\n",
       " '__iter__',\n",
       " '__le__',\n",
       " '__len__',\n",
       " '__lt__',\n",
       " '__mul__',\n",
       " '__ne__',\n",
       " '__new__',\n",
       " '__reduce__',\n",
       " '__reduce_ex__',\n",
       " '__repr__',\n",
       " '__rmul__',\n",
       " '__setattr__',\n",
       " '__sizeof__',\n",
       " '__str__',\n",
       " '__subclasshook__',\n",
       " 'count',\n",
       " 'index']"
      ]
     },
     "execution_count": 43,
     "metadata": {},
     "output_type": "execute_result"
    }
   ],
   "source": [
    "dir(tuple)"
   ]
  },
  {
   "cell_type": "code",
   "execution_count": 53,
   "id": "b1fcc7a1",
   "metadata": {},
   "outputs": [
    {
     "name": "stdout",
     "output_type": "stream",
     "text": [
      "<class 'tuple'>\n"
     ]
    }
   ],
   "source": [
    "tpl=()\n",
    "print(type(tpl))"
   ]
  },
  {
   "cell_type": "code",
   "execution_count": 57,
   "id": "ec12d02d",
   "metadata": {},
   "outputs": [
    {
     "name": "stdout",
     "output_type": "stream",
     "text": [
      "(1, 2, 3, 'a', 'b', 'c', (2+3j), 1.5, 1, 2, 3) <class 'tuple'>\n"
     ]
    }
   ],
   "source": [
    "tpl1=(1,2,3,\"a\",\"b\",\"c\",2+3j,1.5,1,2,3)\n",
    "print(tpl1,type(tpl1))"
   ]
  },
  {
   "cell_type": "markdown",
   "id": "1b034564",
   "metadata": {},
   "source": [
    "$explanation$ $for$ $the$ $above$\n",
    "- 1)tuple allows the heterogeneous values or different data type or different values\n",
    "- 2)In tuple() duplication is allowed "
   ]
  },
  {
   "cell_type": "markdown",
   "id": "62b4fc13",
   "metadata": {},
   "source": [
    "$Len$-$Function$"
   ]
  },
  {
   "cell_type": "code",
   "execution_count": 58,
   "id": "edcb30b8",
   "metadata": {},
   "outputs": [
    {
     "name": "stdout",
     "output_type": "stream",
     "text": [
      "the length of the given tuple is: 6\n"
     ]
    }
   ],
   "source": [
    "tpl2=(1,2,3,\"a\",\"b\",\"c\")\n",
    "print(\"the length of the given tuple is:\",len(tpl2))"
   ]
  },
  {
   "cell_type": "markdown",
   "id": "9a793409",
   "metadata": {},
   "source": [
    "$explanation$ $of$ $the$ $above$\n",
    "\n",
    "- 1)len() functions gives the length of the non empty tuple object\n",
    "- 2)syntax-len(tuple_object)\n",
    "- 3)The len() function is used to find the length of a tuple\n",
    "- 4)which is equivalent to the size of the tuple"
   ]
  },
  {
   "cell_type": "markdown",
   "id": "62bfa91b",
   "metadata": {},
   "source": [
    "$Min$-$Function$"
   ]
  },
  {
   "cell_type": "code",
   "execution_count": 59,
   "id": "d3a2d0c6",
   "metadata": {},
   "outputs": [
    {
     "ename": "TypeError",
     "evalue": "'<' not supported between instances of 'str' and 'int'",
     "output_type": "error",
     "traceback": [
      "\u001b[1;31m---------------------------------------------------------------------------\u001b[0m",
      "\u001b[1;31mTypeError\u001b[0m                                 Traceback (most recent call last)",
      "Cell \u001b[1;32mIn[59], line 2\u001b[0m\n\u001b[0;32m      1\u001b[0m tpl3\u001b[38;5;241m=\u001b[39m(\u001b[38;5;241m1\u001b[39m,\u001b[38;5;241m2\u001b[39m,\u001b[38;5;241m3\u001b[39m,\u001b[38;5;124m\"\u001b[39m\u001b[38;5;124ma\u001b[39m\u001b[38;5;124m\"\u001b[39m,\u001b[38;5;124m\"\u001b[39m\u001b[38;5;124mb\u001b[39m\u001b[38;5;124m\"\u001b[39m,\u001b[38;5;124m\"\u001b[39m\u001b[38;5;124mc\u001b[39m\u001b[38;5;124m\"\u001b[39m)\n\u001b[1;32m----> 2\u001b[0m \u001b[38;5;28mprint\u001b[39m(\u001b[38;5;124m\"\u001b[39m\u001b[38;5;124mminimum value in the given tuple is::\u001b[39m\u001b[38;5;124m\"\u001b[39m,\u001b[38;5;28;43mmin\u001b[39;49m\u001b[43m(\u001b[49m\u001b[43mtpl3\u001b[49m\u001b[43m)\u001b[49m)\n",
      "\u001b[1;31mTypeError\u001b[0m: '<' not supported between instances of 'str' and 'int'"
     ]
    }
   ],
   "source": [
    "tpl3=(1,2,3,\"a\",\"b\",\"c\")\n",
    "print(\"minimum value in the given tuple is::\",min(tpl3))"
   ]
  },
  {
   "cell_type": "code",
   "execution_count": 63,
   "id": "df46593e",
   "metadata": {},
   "outputs": [
    {
     "name": "stdout",
     "output_type": "stream",
     "text": [
      "minimum value in the given tuple is:: 1\n",
      "minimum value in the given tuple is:: a\n"
     ]
    }
   ],
   "source": [
    "tpl3=(1,2,3)\n",
    "print(\"minimum value in the given tuple is::\",min(tpl3))\n",
    "\n",
    "tpl3=(\"a\",\"b\",\"c\")\n",
    "print(\"minimum value in the given tuple is::\",min(tpl3))"
   ]
  },
  {
   "cell_type": "markdown",
   "id": "cf973970",
   "metadata": {},
   "source": [
    "$explanation$ $of$ $the$ $above$\n",
    "\n",
    "- 1)The minimum function denoted by the min()\n",
    "- 2) syntax–min(tuple_object)\n",
    "- 3)we can’t find the minimum value of a heterogenous tuple()-it gives type error\n",
    "- TypeError Traceback (most recent call last)\n",
    "- Input In [14], in <cell line: 3>()\n",
    "- 1 tpl3=(1,2,3,\"a\",\"b\",\"c\")\n",
    "- 3 print(“minimum value in the given tuple is::”,min(tpl3))\n",
    "- TypeError: ‘<’ not supported between instances of ‘str’ and ‘int’\n",
    "- 4)min function/method support only on the homogeneous(same data type values) value of a tuple\n",
    "- 5)min function gives the minimum value of the non empty tuple object with the similar or same\n",
    "   data type\n"
   ]
  },
  {
   "cell_type": "code",
   "execution_count": 64,
   "id": "55f8315e",
   "metadata": {},
   "outputs": [
    {
     "name": "stdout",
     "output_type": "stream",
     "text": [
      "maximum value in the given tuple is:: 3\n",
      "maximum value in the given tuple is:: c\n"
     ]
    }
   ],
   "source": [
    "tpl3=(1,2,3)\n",
    "print(\"maximum value in the given tuple is::\",max(tpl3))\n",
    "\n",
    "tpl3=(\"a\",\"b\",\"c\")\n",
    "print(\"maximum value in the given tuple is::\",max(tpl3))"
   ]
  },
  {
   "cell_type": "markdown",
   "id": "0965e0d5",
   "metadata": {},
   "source": [
    "$explanation$ $of$ $the$ $above$\n",
    "\n",
    "- 1)The maximum function denoted by the min()\n",
    "- 2) syntax–max(tuple_object)\n",
    "- 3)we can’t find the maximum value of a heterogenous tuple()-it gives type error\n",
    "- TypeError Traceback (most recent call last)\n",
    "- Input In [14], in <cell line: 3>()\n",
    "- 1 tpl3=(1,2,3,\"a\",\"b\",\"c\")\n",
    "- 3 print(“maximum value in the given tuple is::”,max(tpl3))\n",
    "- TypeError: ‘<’ not supported between instances of ‘str’ and ‘int’\n",
    "- 4)max function/method support only on the homogeneous(same data type values) value of a tuple\n",
    "- 5)max function gives the max value of the non empty tuple object with the similar or same data\n",
    "   type\n"
   ]
  },
  {
   "cell_type": "code",
   "execution_count": 65,
   "id": "b943affc",
   "metadata": {},
   "outputs": [
    {
     "ename": "ValueError",
     "evalue": "min() arg is an empty sequence",
     "output_type": "error",
     "traceback": [
      "\u001b[1;31m---------------------------------------------------------------------------\u001b[0m",
      "\u001b[1;31mValueError\u001b[0m                                Traceback (most recent call last)",
      "Cell \u001b[1;32mIn[65], line 2\u001b[0m\n\u001b[0;32m      1\u001b[0m tpl4\u001b[38;5;241m=\u001b[39m()\n\u001b[1;32m----> 2\u001b[0m \u001b[38;5;28mprint\u001b[39m(\u001b[38;5;28;43mmin\u001b[39;49m\u001b[43m(\u001b[49m\u001b[43mtpl4\u001b[49m\u001b[43m)\u001b[49m)\n\u001b[0;32m      3\u001b[0m \u001b[38;5;28mprint\u001b[39m(\u001b[38;5;28mmax\u001b[39m(tpl4))\n",
      "\u001b[1;31mValueError\u001b[0m: min() arg is an empty sequence"
     ]
    }
   ],
   "source": [
    "tpl4=()\n",
    "print(min(tpl4))\n",
    "print(max(tpl4))"
   ]
  },
  {
   "cell_type": "markdown",
   "id": "279a159d",
   "metadata": {},
   "source": [
    "$explanation$ $of$ $the$ $above$\n",
    "\n",
    "- when the tuple onject is empty and the min,max- functions gives the-value error"
   ]
  },
  {
   "cell_type": "markdown",
   "id": "33238c43",
   "metadata": {},
   "source": [
    "$concatenation$-$in$-$tuple$"
   ]
  },
  {
   "cell_type": "code",
   "execution_count": 67,
   "id": "c7e2ae18",
   "metadata": {},
   "outputs": [
    {
     "name": "stdout",
     "output_type": "stream",
     "text": [
      "the concatenation of the both tuple is: (1, 2, 3, 'a', 'b', 'c')\n"
     ]
    }
   ],
   "source": [
    "tpl5=(1,2,3)\n",
    "tpl6=(\"a\",\"b\",\"c\")\n",
    "tpl7=tpl5+tpl6\n",
    "print(\"the concatenation of the both tuple is:\",tpl7)"
   ]
  },
  {
   "cell_type": "code",
   "execution_count": 68,
   "id": "fb29e684",
   "metadata": {},
   "outputs": [
    {
     "name": "stdout",
     "output_type": "stream",
     "text": [
      "()\n"
     ]
    }
   ],
   "source": [
    "tpl_a=()\n",
    "tpl_b=()\n",
    "tpl_c=tpl_a+tpl_b\n",
    "print(tpl_c)"
   ]
  },
  {
   "cell_type": "markdown",
   "id": "da49ac06",
   "metadata": {},
   "source": [
    "$explanation$ $of$ $the$ $above$\n",
    "\n",
    "- 1)concatenation is posiible in tuple botht the empty and the non empty tuple object\n",
    "- 2)syntax–>tuple_object1+tuple_object2\n",
    "- 3)“+”– it is the concatenation oparator\n",
    "- 4)concatenation is the combining or joining of the both empty and the non empty tuple_object"
   ]
  },
  {
   "cell_type": "markdown",
   "id": "c87a0464",
   "metadata": {},
   "source": [
    "$index$-$Function$"
   ]
  },
  {
   "cell_type": "code",
   "execution_count": 72,
   "id": "8efab5b0",
   "metadata": {},
   "outputs": [
    {
     "name": "stdout",
     "output_type": "stream",
     "text": [
      "length of thee given non empty object is: 6\n",
      "the value of the given index is: 400\n",
      "the value of the given index is: 500\n",
      "the value of the given index is: 600\n",
      "the value of the given index is: apple\n",
      "the value of the given index is: heyy\n",
      "the value of the given index is: python\n"
     ]
    }
   ],
   "source": [
    "tpl8=(400,500,600,\"apple\",\"heyy\",\"python\")\n",
    "print(\"length of thee given non empty object is:\",len(tpl8))\n",
    "print(\"the value of the given index is:\",tpl8[0])\n",
    "print(\"the value of the given index is:\",tpl8[1])\n",
    "print(\"the value of the given index is:\",tpl8[2])\n",
    "print(\"the value of the given index is:\",tpl8[3])\n",
    "print(\"the value of the given index is:\",tpl8[4])\n",
    "print(\"the value of the given index is:\",tpl8[5])"
   ]
  },
  {
   "cell_type": "code",
   "execution_count": 73,
   "id": "c81b371f",
   "metadata": {},
   "outputs": [
    {
     "name": "stdout",
     "output_type": "stream",
     "text": [
      "(400, 500, 600, 'apple', 'heyy', 'python')\n"
     ]
    }
   ],
   "source": [
    "print(tpl8[0::])"
   ]
  },
  {
   "cell_type": "code",
   "execution_count": 74,
   "id": "616147db",
   "metadata": {},
   "outputs": [
    {
     "name": "stdout",
     "output_type": "stream",
     "text": [
      "('python', 'heyy', 'apple', 600, 500, 400)\n"
     ]
    }
   ],
   "source": [
    "#reversing the tuple object value\n",
    "print(tpl8[::-1])"
   ]
  },
  {
   "cell_type": "code",
   "execution_count": 75,
   "id": "36526a5f",
   "metadata": {},
   "outputs": [
    {
     "name": "stdout",
     "output_type": "stream",
     "text": [
      "(400, 500, 600)\n"
     ]
    }
   ],
   "source": [
    "print(tpl8[0:3])"
   ]
  },
  {
   "cell_type": "code",
   "execution_count": 76,
   "id": "c6fae6b4",
   "metadata": {},
   "outputs": [
    {
     "ename": "TypeError",
     "evalue": "'tuple' object does not support item assignment",
     "output_type": "error",
     "traceback": [
      "\u001b[1;31m---------------------------------------------------------------------------\u001b[0m",
      "\u001b[1;31mTypeError\u001b[0m                                 Traceback (most recent call last)",
      "Cell \u001b[1;32mIn[76], line 1\u001b[0m\n\u001b[1;32m----> 1\u001b[0m tpl8[\u001b[38;5;241m0\u001b[39m]\u001b[38;5;241m=\u001b[39m\u001b[38;5;241m200\u001b[39m\n",
      "\u001b[1;31mTypeError\u001b[0m: 'tuple' object does not support item assignment"
     ]
    }
   ],
   "source": [
    "tpl8[0]=200"
   ]
  },
  {
   "cell_type": "markdown",
   "id": "79554a9b",
   "metadata": {},
   "source": [
    "$explanation$ $of$ $the$ $above$\n",
    "\n",
    "- 1)index function is possible in tupple\n",
    "- 2)tuple() object doesn’t support the item assignment\n",
    "- 3)There is no reverse() method in tuple to reverse it\n",
    "- 4)but,using the negative indexing we can perform the reverse operation\n",
    "- 5)reversing the tuple() object using the negative indexing\n",
    "\n",
    "- TypeError Traceback (most recent call last)\n",
    "- Input In [44], in <cell line: 1>()\n",
    "- 1 tpl8[0]=200\n",
    "- TypeError: ‘tuple’ object does not support item assignment"
   ]
  },
  {
   "cell_type": "markdown",
   "id": "bf6c8415",
   "metadata": {},
   "source": [
    "$Mutable$ $or$ $Immutable$ $Concept$"
   ]
  },
  {
   "cell_type": "markdown",
   "id": "5e3987b6",
   "metadata": {},
   "source": [
    "$NOTE:$\n",
    "    \n",
    "- 1)possible methods/functions in tuple():\n",
    "- a)count()\n",
    "- b)index()\n",
    "- c)len(tuple)\n",
    "- d)min()\n",
    "- e)max()\n",
    "\n",
    "$2)$ $methods$/$functions$ $not$ $present$ $in$ $tuple():$\n",
    "    \n",
    "- a)append()\n",
    "- b)insert()\n",
    "- c)remove()\n",
    "- d)clear()\n",
    "- e)pop(index)\n",
    "- f)pop()\n",
    "- g)reverse()\n",
    "- h)sort()\n",
    "- i)copy()\n",
    "- j)extend()\n"
   ]
  },
  {
   "cell_type": "code",
   "execution_count": 1,
   "id": "24840ba6",
   "metadata": {},
   "outputs": [
    {
     "ename": "AttributeError",
     "evalue": "'tuple' object has no attribute 'append'",
     "output_type": "error",
     "traceback": [
      "\u001b[1;31m---------------------------------------------------------------------------\u001b[0m",
      "\u001b[1;31mAttributeError\u001b[0m                            Traceback (most recent call last)",
      "Cell \u001b[1;32mIn[1], line 2\u001b[0m\n\u001b[0;32m      1\u001b[0m tup9\u001b[38;5;241m=\u001b[39m(\u001b[38;5;241m1\u001b[39m,\u001b[38;5;241m2\u001b[39m,\u001b[38;5;124m\"\u001b[39m\u001b[38;5;124ma\u001b[39m\u001b[38;5;124m\"\u001b[39m,\u001b[38;5;124m\"\u001b[39m\u001b[38;5;124mb\u001b[39m\u001b[38;5;124m\"\u001b[39m,\u001b[38;5;124m\"\u001b[39m\u001b[38;5;124ma\u001b[39m\u001b[38;5;124m\"\u001b[39m)\n\u001b[1;32m----> 2\u001b[0m \u001b[38;5;28mprint\u001b[39m(\u001b[43mtup9\u001b[49m\u001b[38;5;241;43m.\u001b[39;49m\u001b[43mappend\u001b[49m(\u001b[38;5;124m\"\u001b[39m\u001b[38;5;124mhi\u001b[39m\u001b[38;5;124m\"\u001b[39m))\n",
      "\u001b[1;31mAttributeError\u001b[0m: 'tuple' object has no attribute 'append'"
     ]
    }
   ],
   "source": [
    "tup9=(1,2,\"a\",\"b\",\"a\")\n",
    "print(tup9.append(\"hi\"))"
   ]
  },
  {
   "cell_type": "code",
   "execution_count": 2,
   "id": "dcc96424",
   "metadata": {},
   "outputs": [
    {
     "ename": "AttributeError",
     "evalue": "'tuple' object has no attribute 'insert'",
     "output_type": "error",
     "traceback": [
      "\u001b[1;31m---------------------------------------------------------------------------\u001b[0m",
      "\u001b[1;31mAttributeError\u001b[0m                            Traceback (most recent call last)",
      "Cell \u001b[1;32mIn[2], line 1\u001b[0m\n\u001b[1;32m----> 1\u001b[0m \u001b[38;5;28mprint\u001b[39m(\u001b[43mtup9\u001b[49m\u001b[38;5;241;43m.\u001b[39;49m\u001b[43minsert\u001b[49m(\u001b[38;5;124m\"\u001b[39m\u001b[38;5;124mhi\u001b[39m\u001b[38;5;124m\"\u001b[39m))\n",
      "\u001b[1;31mAttributeError\u001b[0m: 'tuple' object has no attribute 'insert'"
     ]
    }
   ],
   "source": [
    "print(tup9.insert(\"hi\"))"
   ]
  },
  {
   "cell_type": "code",
   "execution_count": 3,
   "id": "ec583794",
   "metadata": {},
   "outputs": [
    {
     "ename": "AttributeError",
     "evalue": "'tuple' object has no attribute 'remove'",
     "output_type": "error",
     "traceback": [
      "\u001b[1;31m---------------------------------------------------------------------------\u001b[0m",
      "\u001b[1;31mAttributeError\u001b[0m                            Traceback (most recent call last)",
      "Cell \u001b[1;32mIn[3], line 1\u001b[0m\n\u001b[1;32m----> 1\u001b[0m \u001b[38;5;28mprint\u001b[39m(\u001b[43mtup9\u001b[49m\u001b[38;5;241;43m.\u001b[39;49m\u001b[43mremove\u001b[49m(\u001b[38;5;241m1\u001b[39m))\n",
      "\u001b[1;31mAttributeError\u001b[0m: 'tuple' object has no attribute 'remove'"
     ]
    }
   ],
   "source": [
    "print(tup9.remove(1))"
   ]
  },
  {
   "cell_type": "code",
   "execution_count": 81,
   "id": "b9837051",
   "metadata": {},
   "outputs": [
    {
     "ename": "AttributeError",
     "evalue": "'tuple' object has no attribute 'clear'",
     "output_type": "error",
     "traceback": [
      "\u001b[1;31m---------------------------------------------------------------------------\u001b[0m",
      "\u001b[1;31mAttributeError\u001b[0m                            Traceback (most recent call last)",
      "Cell \u001b[1;32mIn[81], line 1\u001b[0m\n\u001b[1;32m----> 1\u001b[0m \u001b[38;5;28mprint\u001b[39m(\u001b[43mtup9\u001b[49m\u001b[38;5;241;43m.\u001b[39;49m\u001b[43mclear\u001b[49m())\n",
      "\u001b[1;31mAttributeError\u001b[0m: 'tuple' object has no attribute 'clear'"
     ]
    }
   ],
   "source": [
    "print(tup9.clear())"
   ]
  },
  {
   "cell_type": "code",
   "execution_count": 82,
   "id": "c0f6e8da",
   "metadata": {},
   "outputs": [
    {
     "ename": "AttributeError",
     "evalue": "'tuple' object has no attribute 'pop'",
     "output_type": "error",
     "traceback": [
      "\u001b[1;31m---------------------------------------------------------------------------\u001b[0m",
      "\u001b[1;31mAttributeError\u001b[0m                            Traceback (most recent call last)",
      "Cell \u001b[1;32mIn[82], line 1\u001b[0m\n\u001b[1;32m----> 1\u001b[0m \u001b[38;5;28mprint\u001b[39m(\u001b[43mtup9\u001b[49m\u001b[38;5;241;43m.\u001b[39;49m\u001b[43mpop\u001b[49m(\u001b[38;5;241m0\u001b[39m))\n",
      "\u001b[1;31mAttributeError\u001b[0m: 'tuple' object has no attribute 'pop'"
     ]
    }
   ],
   "source": [
    "print(tup9.pop(0))"
   ]
  },
  {
   "cell_type": "code",
   "execution_count": 83,
   "id": "939d124e",
   "metadata": {},
   "outputs": [
    {
     "ename": "AttributeError",
     "evalue": "'tuple' object has no attribute 'pop'",
     "output_type": "error",
     "traceback": [
      "\u001b[1;31m---------------------------------------------------------------------------\u001b[0m",
      "\u001b[1;31mAttributeError\u001b[0m                            Traceback (most recent call last)",
      "Cell \u001b[1;32mIn[83], line 1\u001b[0m\n\u001b[1;32m----> 1\u001b[0m \u001b[38;5;28mprint\u001b[39m(\u001b[43mtup9\u001b[49m\u001b[38;5;241;43m.\u001b[39;49m\u001b[43mpop\u001b[49m())\n",
      "\u001b[1;31mAttributeError\u001b[0m: 'tuple' object has no attribute 'pop'"
     ]
    }
   ],
   "source": [
    "print(tup9.pop())"
   ]
  },
  {
   "cell_type": "code",
   "execution_count": 84,
   "id": "8209ec7f",
   "metadata": {},
   "outputs": [
    {
     "ename": "AttributeError",
     "evalue": "'tuple' object has no attribute 'reverse'",
     "output_type": "error",
     "traceback": [
      "\u001b[1;31m---------------------------------------------------------------------------\u001b[0m",
      "\u001b[1;31mAttributeError\u001b[0m                            Traceback (most recent call last)",
      "Cell \u001b[1;32mIn[84], line 1\u001b[0m\n\u001b[1;32m----> 1\u001b[0m \u001b[38;5;28mprint\u001b[39m(\u001b[43mtup9\u001b[49m\u001b[38;5;241;43m.\u001b[39;49m\u001b[43mreverse\u001b[49m())\n",
      "\u001b[1;31mAttributeError\u001b[0m: 'tuple' object has no attribute 'reverse'"
     ]
    }
   ],
   "source": [
    "print(tup9.reverse())"
   ]
  },
  {
   "cell_type": "code",
   "execution_count": 85,
   "id": "2e844c91",
   "metadata": {},
   "outputs": [
    {
     "ename": "AttributeError",
     "evalue": "'tuple' object has no attribute 'sort'",
     "output_type": "error",
     "traceback": [
      "\u001b[1;31m---------------------------------------------------------------------------\u001b[0m",
      "\u001b[1;31mAttributeError\u001b[0m                            Traceback (most recent call last)",
      "Cell \u001b[1;32mIn[85], line 1\u001b[0m\n\u001b[1;32m----> 1\u001b[0m \u001b[38;5;28mprint\u001b[39m(\u001b[43mtup9\u001b[49m\u001b[38;5;241;43m.\u001b[39;49m\u001b[43msort\u001b[49m())\n",
      "\u001b[1;31mAttributeError\u001b[0m: 'tuple' object has no attribute 'sort'"
     ]
    }
   ],
   "source": [
    "print(tup9.sort())"
   ]
  },
  {
   "cell_type": "code",
   "execution_count": 86,
   "id": "9c6c97b1",
   "metadata": {},
   "outputs": [
    {
     "ename": "AttributeError",
     "evalue": "'tuple' object has no attribute 'extend'",
     "output_type": "error",
     "traceback": [
      "\u001b[1;31m---------------------------------------------------------------------------\u001b[0m",
      "\u001b[1;31mAttributeError\u001b[0m                            Traceback (most recent call last)",
      "Cell \u001b[1;32mIn[86], line 1\u001b[0m\n\u001b[1;32m----> 1\u001b[0m \u001b[38;5;28mprint\u001b[39m(\u001b[43mtup9\u001b[49m\u001b[38;5;241;43m.\u001b[39;49m\u001b[43mextend\u001b[49m())\n",
      "\u001b[1;31mAttributeError\u001b[0m: 'tuple' object has no attribute 'extend'"
     ]
    }
   ],
   "source": [
    "print(tup9.extend())"
   ]
  },
  {
   "cell_type": "code",
   "execution_count": 87,
   "id": "4c1b69e8",
   "metadata": {},
   "outputs": [
    {
     "ename": "AttributeError",
     "evalue": "'tuple' object has no attribute 'copy'",
     "output_type": "error",
     "traceback": [
      "\u001b[1;31m---------------------------------------------------------------------------\u001b[0m",
      "\u001b[1;31mAttributeError\u001b[0m                            Traceback (most recent call last)",
      "Cell \u001b[1;32mIn[87], line 1\u001b[0m\n\u001b[1;32m----> 1\u001b[0m t\u001b[38;5;241m=\u001b[39m\u001b[43mtup9\u001b[49m\u001b[38;5;241;43m.\u001b[39;49m\u001b[43mcopy\u001b[49m()\n\u001b[0;32m      2\u001b[0m \u001b[38;5;28mprint\u001b[39m(t)\n",
      "\u001b[1;31mAttributeError\u001b[0m: 'tuple' object has no attribute 'copy'"
     ]
    }
   ],
   "source": [
    "t=tup9.copy()\n",
    "print(t)"
   ]
  },
  {
   "cell_type": "markdown",
   "id": "1cb4ef57",
   "metadata": {},
   "source": [
    "$explanation$\n",
    "\n",
    "- 1) the above methods/functions are not possible in tuple concept or tuple doent have such methods in it\n",
    "- 2) tuple() object is immutable!!!\n"
   ]
  },
  {
   "cell_type": "code",
   "execution_count": 88,
   "id": "4270f30b",
   "metadata": {},
   "outputs": [
    {
     "name": "stdout",
     "output_type": "stream",
     "text": [
      "1\n"
     ]
    }
   ],
   "source": [
    "#count method in tuple() object\n",
    "\n",
    "print(tup9.count(\"b\"))"
   ]
  },
  {
   "cell_type": "markdown",
   "id": "a55131e4",
   "metadata": {},
   "source": [
    "$Iteration$ $-$ $for$ $-$ $while$ $-$ $loop$"
   ]
  },
  {
   "cell_type": "code",
   "execution_count": 90,
   "id": "1244a1f4",
   "metadata": {},
   "outputs": [
    {
     "name": "stdout",
     "output_type": "stream",
     "text": [
      "0 ==> 11\n",
      "1 ==> 12\n",
      "2 ==> and\n",
      "3 ==> in\n",
      "4 ==> for\n"
     ]
    }
   ],
   "source": [
    "# for loop-concept\n",
    "\n",
    "\n",
    "tup=(11,12,\"and\",\"in\",\"for\")\n",
    "for i in range(0,len(tup)):\n",
    "    print(i,\"==>\",tup[i])\n"
   ]
  },
  {
   "cell_type": "code",
   "execution_count": 94,
   "id": "25587891",
   "metadata": {},
   "outputs": [
    {
     "name": "stdout",
     "output_type": "stream",
     "text": [
      "0 ==> 11\n",
      "1 ==> 12\n",
      "2 ==> and\n",
      "3 ==> in\n",
      "4 ==> for\n"
     ]
    }
   ],
   "source": [
    "#while loop\n",
    "\n",
    "i=0\n",
    "while i<len(tup):\n",
    "    print(i,\"==>\",tup[i])\n",
    "    i=i+1\n"
   ]
  },
  {
   "cell_type": "markdown",
   "id": "04f5a8e1",
   "metadata": {},
   "source": [
    "$explanation$ $of$ $the$ $above$ $concept:$\n",
    "\n",
    "- 1) while the indexing and lenth methods are supported in tuple\n",
    "- 2) so iteration is possible in tuple in both for and while loop."
   ]
  },
  {
   "cell_type": "markdown",
   "id": "60dc9403",
   "metadata": {},
   "source": [
    "$Slicing$"
   ]
  },
  {
   "cell_type": "code",
   "execution_count": 95,
   "id": "23bcf4c1",
   "metadata": {},
   "outputs": [
    {
     "name": "stdout",
     "output_type": "stream",
     "text": [
      "('a', 'b', 'c', 'd', 'e', 'f')\n",
      "('b', 'd', 'f', 'h')\n",
      "('j', 'h')\n"
     ]
    }
   ],
   "source": [
    "tuple= ('a','b','c','d','e','f','g','h','i','j')\n",
    "print(tuple[0:6])\n",
    "print(tuple[1:9:2])\n",
    "print(tuple[-1:-5:-2])"
   ]
  },
  {
   "cell_type": "markdown",
   "id": "452e4bde",
   "metadata": {},
   "source": [
    "$explanation$ $for$ $the$ $above:$\n",
    "    \n",
    "- 1) syntax==>tuple[Start : Stop : Stride]\n",
    "- 2) slicing is possible in non empty tuple() object"
   ]
  },
  {
   "cell_type": "code",
   "execution_count": 96,
   "id": "99d447c4",
   "metadata": {},
   "outputs": [
    {
     "name": "stdout",
     "output_type": "stream",
     "text": [
      "('u', 's', 't')\n",
      "('r', 'i', 'a', 'l', 's', 'p', 'o', 'i', 'n', 't')\n",
      "('u', 'r')\n",
      "('s', 'p', 'o', 'i', 'n', 't')\n"
     ]
    }
   ],
   "source": [
    "my_tuple=('u', 'r', 'i', 'a', 'l', 's', 'p', 'o', 'i', 'n', 't')\n",
    "print(my_tuple[::5]) #Print elements = ('t', 'u', 'r', 'i', 'a', 'l', 's','p','o', 'i', 'n', 't')\n",
    "print(my_tuple[1:]) #Print elements from index 1 to end\n",
    "print(my_tuple[:2]) #Print elements from start to index 2\n",
    "print(my_tuple[5:12]) #Print elements from index 1 to index 3"
   ]
  },
  {
   "cell_type": "code",
   "execution_count": null,
   "id": "8678427e",
   "metadata": {},
   "outputs": [],
   "source": []
  }
 ],
 "metadata": {
  "kernelspec": {
   "display_name": "Python 3 (ipykernel)",
   "language": "python",
   "name": "python3"
  },
  "language_info": {
   "codemirror_mode": {
    "name": "ipython",
    "version": 3
   },
   "file_extension": ".py",
   "mimetype": "text/x-python",
   "name": "python",
   "nbconvert_exporter": "python",
   "pygments_lexer": "ipython3",
   "version": "3.10.9"
  }
 },
 "nbformat": 4,
 "nbformat_minor": 5
}
